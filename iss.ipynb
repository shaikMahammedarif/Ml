{
 "cells": [
  {
   "cell_type": "code",
   "execution_count": 1,
   "id": "ea0523d0-eac1-4cc2-9ca3-c96ab26f9a70",
   "metadata": {},
   "outputs": [],
   "source": [
    "import numpy as np\n",
    "\n",
    "# Create a 1D NumPy array\n",
    "arr_1d = np.array([3, 1, 2, 5, 4])\n"
   ]
  },
  {
   "cell_type": "code",
   "execution_count": 2,
   "id": "969143a0-1199-4cac-b55f-a783d4abd6b5",
   "metadata": {},
   "outputs": [
    {
     "name": "stdout",
     "output_type": "stream",
     "text": [
      "3\n",
      "4\n"
     ]
    }
   ],
   "source": [
    "# Accessing elements at specific indices\n",
    "print(arr_1d[0])   # 3 (accessing the first element)\n",
    "print(arr_1d[-1])  # 4 (accessing the last element)\n"
   ]
  },
  {
   "cell_type": "code",
   "execution_count": 3,
   "id": "6e53b587-2737-4946-b96a-24e36572062f",
   "metadata": {},
   "outputs": [
    {
     "name": "stdout",
     "output_type": "stream",
     "text": [
      "[1 2 5]\n",
      "[3 1 2]\n",
      "[2 5 4]\n"
     ]
    }
   ],
   "source": [
    "# Slicing: accessing subarrays\n",
    "print(arr_1d[1:4])   \n",
    "print(arr_1d[:3])    \n",
    "print(arr_1d[2:])   \n"
   ]
  },
  {
   "cell_type": "code",
   "execution_count": 4,
   "id": "03688c8f-08fb-4300-9a21-3f6264385643",
   "metadata": {},
   "outputs": [
    {
     "name": "stdout",
     "output_type": "stream",
     "text": [
      "[1 2 3 4 5]\n"
     ]
    }
   ],
   "source": [
    "# Sorting the array\n",
    "sorted_arr = np.sort(arr_1d)\n",
    "print(sorted_arr)    # [1 2 3 4 5] (sorted array)\n"
   ]
  },
  {
   "cell_type": "code",
   "execution_count": 5,
   "id": "5a95f8a2-8e9b-49bb-abca-8a8d28800a21",
   "metadata": {},
   "outputs": [],
   "source": [
    "# Create a 2D NumPy array\n",
    "arr_2d = np.array([[3, 1, 2], [5, 4, 6]])\n"
   ]
  },
  {
   "cell_type": "code",
   "execution_count": 6,
   "id": "bd99f56d-d8d0-46fb-affb-40e65d2fee7e",
   "metadata": {},
   "outputs": [
    {
     "name": "stdout",
     "output_type": "stream",
     "text": [
      "1\n",
      "6\n"
     ]
    }
   ],
   "source": [
    "# Accessing elements at specific indices\n",
    "print(arr_2d[0, 1])   # 1 (accessing element at row 0, column 1)\n",
    "print(arr_2d[1, 2])   # 6 (accessing element at row 1, column 2)\n"
   ]
  },
  {
   "cell_type": "code",
   "execution_count": 7,
   "id": "3b343ffb-5ef2-44b3-a4d9-14d36115c9fe",
   "metadata": {},
   "outputs": [
    {
     "name": "stdout",
     "output_type": "stream",
     "text": [
      "[1 4]\n",
      "[5 4 6]\n",
      "[[3 1]\n",
      " [5 4]]\n"
     ]
    }
   ],
   "source": [
    "# Slicing: accessing subarrays\n",
    "print(arr_2d[:, 1])   \n",
    "print(arr_2d[1, :])   # [5 4 6] (second row elements from all columns)\n",
    "print(arr_2d[:2, :2]) # [[3 1] [5 4]] (subarray of first two rows and columns)\n"
   ]
  },
  {
   "cell_type": "code",
   "execution_count": 8,
   "id": "ff1017cf-a000-4671-91fe-f5cddb912a4c",
   "metadata": {},
   "outputs": [
    {
     "name": "stdout",
     "output_type": "stream",
     "text": [
      "[[3 1 2]\n",
      " [5 4 6]]\n",
      "[[1 2 3]\n",
      " [4 5 6]]\n"
     ]
    }
   ],
   "source": [
    "# Sorting along an axis\n",
    "sorted_arr_axis0 = np.sort(arr_2d, axis=0)\n",
    "print(sorted_arr_axis0)\n",
    "\n",
    "sorted_arr_axis1 = np.sort(arr_2d, axis=1)\n",
    "print(sorted_arr_axis1)\n"
   ]
  },
  {
   "cell_type": "code",
   "execution_count": null,
   "id": "a5ae5301-d993-4ef5-9e52-abd895a5600d",
   "metadata": {},
   "outputs": [],
   "source": []
  }
 ],
 "metadata": {
  "kernelspec": {
   "display_name": "Python 3 (ipykernel)",
   "language": "python",
   "name": "python3"
  },
  "language_info": {
   "codemirror_mode": {
    "name": "ipython",
    "version": 3
   },
   "file_extension": ".py",
   "mimetype": "text/x-python",
   "name": "python",
   "nbconvert_exporter": "python",
   "pygments_lexer": "ipython3",
   "version": "3.12.3"
  }
 },
 "nbformat": 4,
 "nbformat_minor": 5
}

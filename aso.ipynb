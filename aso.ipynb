{
 "cells": [
  {
   "cell_type": "code",
   "execution_count": 2,
   "id": "7dc6717f-2f95-4346-9c9a-f9fcc3443ce3",
   "metadata": {},
   "outputs": [],
   "source": [
    "\n",
    "import numpy as np\n",
    "\n",
    "# Create 1D array\n",
    "array_1d = np.array([1, 2, 3, 4, 5])\n",
    "\n",
    "# Create 2D array\n",
    "array_2d = np.array([[1, 2, 3], [4, 5, 6], [7, 8, 9]])"
   ]
  },
  {
   "cell_type": "code",
   "execution_count": 4,
   "id": "2ef97d19-25bc-4806-adae-b2de537ac996",
   "metadata": {},
   "outputs": [
    {
     "name": "stdout",
     "output_type": "stream",
     "text": [
      "Addition (1D): [3 4 5 6 7]\n",
      "Subtraction (1D): [-1  0  1  2  3]\n",
      "Multiplication (1D): [ 2  4  6  8 10]\n",
      "Division (1D): [0.5 1.  1.5 2.  2.5]\n"
     ]
    }
   ],
   "source": [
    "\n",
    "# Addition\n",
    "add_1d = array_1d + 2\n",
    "print(\"Addition (1D):\", add_1d)\n",
    "\n",
    "# Subtraction\n",
    "sub_1d = array_1d - 2\n",
    "print(\"Subtraction (1D):\", sub_1d)\n",
    "\n",
    "# Multiplication\n",
    "mul_1d = array_1d * 2\n",
    "print(\"Multiplication (1D):\", mul_1d)\n",
    "\n",
    "# Division\n",
    "div_1d = array_1d / 2\n",
    "print(\"Division (1D):\", div_1d)"
   ]
  },
  {
   "cell_type": "code",
   "execution_count": 5,
   "id": "3dd5d7b0-c1a7-4982-bcfa-0037ff4be038",
   "metadata": {},
   "outputs": [
    {
     "name": "stdout",
     "output_type": "stream",
     "text": [
      "Addition (2D):\n",
      " [[ 3  4  5]\n",
      " [ 6  7  8]\n",
      " [ 9 10 11]]\n",
      "Subtraction (2D):\n",
      " [[-1  0  1]\n",
      " [ 2  3  4]\n",
      " [ 5  6  7]]\n",
      "Multiplication (2D):\n",
      " [[ 2  4  6]\n",
      " [ 8 10 12]\n",
      " [14 16 18]]\n",
      "Division (2D):\n",
      " [[0.5 1.  1.5]\n",
      " [2.  2.5 3. ]\n",
      " [3.5 4.  4.5]]\n"
     ]
    }
   ],
   "source": [
    "\n",
    "# Addition\n",
    "add_2d = array_2d + 2\n",
    "print(\"Addition (2D):\\n\", add_2d)\n",
    "\n",
    "# Subtraction\n",
    "sub_2d = array_2d - 2\n",
    "print(\"Subtraction (2D):\\n\", sub_2d)\n",
    "\n",
    "# Multiplication\n",
    "mul_2d = array_2d * 2\n",
    "print(\"Multiplication (2D):\\n\", mul_2d)\n",
    "\n",
    "# Division\n",
    "div_2d = array_2d / 2\n",
    "print(\"Division (2D):\\n\", div_2d)"
   ]
  },
  {
   "cell_type": "code",
   "execution_count": 6,
   "id": "08c84b3e-a77f-4be3-b253-cdd97be5458a",
   "metadata": {},
   "outputs": [
    {
     "name": "stdout",
     "output_type": "stream",
     "text": [
      "Mean (1D): 3.0\n",
      "Median (1D): 3.0\n",
      "Standard Deviation (1D): 1.4142135623730951\n",
      "Variance (1D): 2.0\n"
     ]
    }
   ],
   "source": [
    "\n",
    "# Mean\n",
    "mean_1d = np.mean(array_1d)\n",
    "print(\"Mean (1D):\", mean_1d)\n",
    "\n",
    "# Median\n",
    "median_1d = np.median(array_1d)\n",
    "print(\"Median (1D):\", median_1d)\n",
    "\n",
    "# Standard Deviation\n",
    "std_1d = np.std(array_1d)\n",
    "print(\"Standard Deviation (1D):\", std_1d)\n",
    "\n",
    "# Variance\n",
    "var_1d = np.var(array_1d)\n",
    "print(\"Variance (1D):\", var_1d)"
   ]
  },
  {
   "cell_type": "code",
   "execution_count": 7,
   "id": "b4545d0e-7017-4950-bf4b-3a73ccb35f27",
   "metadata": {},
   "outputs": [
    {
     "name": "stdout",
     "output_type": "stream",
     "text": [
      "Mean (2D): 5.0\n",
      "Median (2D): 5.0\n",
      "Standard Deviation (2D): 2.581988897471611\n",
      "Variance (2D): 6.666666666666667\n"
     ]
    }
   ],
   "source": [
    "\n",
    "# Mean\n",
    "mean_2d = np.mean(array_2d)\n",
    "print(\"Mean (2D):\", mean_2d)\n",
    "\n",
    "# Median\n",
    "median_2d = np.median(array_2d)\n",
    "print(\"Median (2D):\", median_2d)\n",
    "\n",
    "# Standard Deviation\n",
    "std_2d = np.std(array_2d)\n",
    "print(\"Standard Deviation (2D):\", std_2d)\n",
    "\n",
    "# Variance\n",
    "var_2d = np.var(array_2d)\n",
    "print(\"Variance (2D):\", var_2d)"
   ]
  },
  {
   "cell_type": "code",
   "execution_count": null,
   "id": "5532af7f-89cd-46cd-a637-856fe115c29f",
   "metadata": {},
   "outputs": [],
   "source": []
  }
 ],
 "metadata": {
  "kernelspec": {
   "display_name": "Python 3 (ipykernel)",
   "language": "python",
   "name": "python3"
  },
  "language_info": {
   "codemirror_mode": {
    "name": "ipython",
    "version": 3
   },
   "file_extension": ".py",
   "mimetype": "text/x-python",
   "name": "python",
   "nbconvert_exporter": "python",
   "pygments_lexer": "ipython3",
   "version": "3.12.3"
  }
 },
 "nbformat": 4,
 "nbformat_minor": 5
}
